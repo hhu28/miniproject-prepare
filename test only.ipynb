{
 "cells": [
  {
   "cell_type": "code",
   "execution_count": 8,
   "metadata": {
    "collapsed": false,
    "deletable": true,
    "editable": true
   },
   "outputs": [],
   "source": [
    "test = ['a', 'b', 'c']\n",
    "x = ''\n",
    "for i in range(len(test)):\n",
    "    x = x + ',' + test[i]\n",
    "    \n",
    "#print x"
   ]
  },
  {
   "cell_type": "code",
   "execution_count": 12,
   "metadata": {
    "collapsed": false
   },
   "outputs": [
    {
     "name": "stdout",
     "output_type": "stream",
     "text": [
      "b\n",
      "c\n"
     ]
    }
   ],
   "source": [
    "for i in range(1,len(test)):\n",
    "\n",
    "    print test[i]"
   ]
  },
  {
   "cell_type": "code",
   "execution_count": 15,
   "metadata": {
    "collapsed": false
   },
   "outputs": [],
   "source": [
    "import requests\n",
    "import json\n",
    "import simplejson\n",
    "import pandas as pd\n",
    "\n",
    "web = 'https://www.quandl.com/api/v3/datatables/WIKI/PRICES.json?ticker=fb&qopts.columns=date,open&api_key=vE8zyFxDsKyf5NnGyDdC'\n",
    "#print web\n",
    "\n",
    "# get data\n",
    "r = requests.get(web)\n",
    "jdata = simplejson.dumps(r.json())\n",
    "datadict = simplejson.loads(jdata)['datatable']\n",
    "\n",
    "#get column names \n",
    "names = []\n",
    "for i in range(len(datadict['columns'])):\n",
    "    names.append(datadict['columns'][i]['name']) \n",
    "\n",
    "# convert to dataframe\n",
    "df = pd.DataFrame(datadict['data'],  columns= names)"
   ]
  },
  {
   "cell_type": "code",
   "execution_count": 17,
   "metadata": {
    "collapsed": false
   },
   "outputs": [
    {
     "name": "stdout",
     "output_type": "stream",
     "text": [
      "0        42.050\n",
      "1        36.530\n",
      "2        32.610\n",
      "3        31.370\n",
      "4        32.950\n",
      "5        32.900\n",
      "6        31.480\n",
      "7        28.695\n",
      "8        28.545\n",
      "9        28.892\n",
      "10       27.200\n",
      "11       26.700\n",
      "12       26.070\n",
      "13       27.000\n",
      "14       26.550\n",
      "15       27.180\n",
      "16       27.480\n",
      "17       27.660\n",
      "18       27.650\n",
      "19       28.505\n",
      "20       29.955\n",
      "21       31.535\n",
      "22       31.920\n",
      "23       31.670\n",
      "24       32.410\n",
      "25       32.860\n",
      "26       32.690\n",
      "27       32.460\n",
      "28       31.960\n",
      "29       31.920\n",
      "         ...   \n",
      "1248    151.450\n",
      "1249    150.710\n",
      "1250    151.490\n",
      "1251    150.230\n",
      "1252    150.310\n",
      "1253    150.400\n",
      "1254    150.170\n",
      "1255    150.110\n",
      "1256    148.000\n",
      "1257    144.720\n",
      "1258    148.445\n",
      "1259    148.080\n",
      "1260    148.520\n",
      "1261    148.510\n",
      "1262    150.300\n",
      "1263    152.230\n",
      "1264    151.970\n",
      "1265    152.700\n",
      "1266    151.750\n",
      "1267    151.850\n",
      "1268    153.640\n",
      "1269    153.410\n",
      "1270    153.270\n",
      "1271    154.080\n",
      "1272    154.770\n",
      "1273    148.170\n",
      "1274    150.150\n",
      "1275    151.260\n",
      "1276    147.670\n",
      "1277    149.590\n",
      "Name: open, Length: 1278, dtype: float64\n"
     ]
    }
   ],
   "source": [
    "print df['open']"
   ]
  },
  {
   "cell_type": "code",
   "execution_count": null,
   "metadata": {
    "collapsed": true
   },
   "outputs": [],
   "source": []
  }
 ],
 "metadata": {
  "kernelspec": {
   "display_name": "Python 2",
   "language": "python",
   "name": "python2"
  },
  "language_info": {
   "codemirror_mode": {
    "name": "ipython",
    "version": 2
   },
   "file_extension": ".py",
   "mimetype": "text/x-python",
   "name": "python",
   "nbconvert_exporter": "python",
   "pygments_lexer": "ipython2",
   "version": "2.7.13"
  }
 },
 "nbformat": 4,
 "nbformat_minor": 2
}
